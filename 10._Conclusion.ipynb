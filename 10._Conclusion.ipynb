{
 "cells": [
  {
   "cell_type": "markdown",
   "metadata": {
    "slideshow": {
     "slide_type": "slide"
    }
   },
   "source": [
    "# Conclusion\n",
    "\n",
    "- The Python scientific computing environment keeps evolving\n",
    "    - IPython development (Data Science team at Berkeley)\n",
    "    - Scikit-learn (INRIA team)\n",
    "    - Lots of contributions every year, spoted at SciPy Conference\n",
    "- New arrivals: **deep learning**\n",
    "    - [Theano](http://deeplearning.net/software/theano/)\n",
    "        - Expressions involving NumPy arrays efficiently computed in GPUs\n",
    "    - [Keras](https://keras.io) and [PyTorch](http://pytorch.org)\n",
    "        - Deep Neural Networks"
   ]
  },
  {
   "cell_type": "markdown",
   "metadata": {
    "slideshow": {
     "slide_type": "skip"
    }
   },
   "source": [
    "In [his book](http://www.computervisionmodels.com/), Prince argues that computer vision should be understood in terms of measurements (images), the world state, a model (defining the statistical relationships between the observations and the world), parameters, and learning and inference algorithms.\n",
    "The presented environment can address all these elements in modern computer vision R&D. Also, such a environment keeps evolving. For example, in the raising field of **deep learning vision**, packages as [Keras](https://keras.io), [PyTorch](http://pytorch.org), and [Theano](http://deeplearning.net/software/theano/) are promising tools that could become an important part of the Python ecosystem for scientific computing in a near future."
   ]
  },
  {
   "cell_type": "markdown",
   "metadata": {
    "slideshow": {
     "slide_type": "slide"
    }
   },
   "source": [
    "## Where to go from here?\n",
    "\n",
    "- Books\n",
    "  - [*Programming Computer Vision with Python*](http://programmingcomputervision.com) by Jan Erik Solem, \n",
    "  - [*Python for Data Analysis*](http://shop.oreilly.com/product/0636920023784.do) by Wes McKinney\n",
    "  - [*Learning OpenCV 3*](http://shop.oreilly.com/product/0636920044765.do) by Adrian Kaehler and Gary Bradski\n",
    "- Web\n",
    "  - [Scikit-learn tutorials](http://scikit-learn.org/stable/tutorial/index.html)\n",
    "  - [Scikit-image examples](http://scikit-image.org/docs/dev/auto_examples/index.html)\n",
    "  - [*Scipy lecture notes*](http://scipy-lectures.github.io/intro/intro.html)"
   ]
  },
  {
   "cell_type": "markdown",
   "metadata": {
    "slideshow": {
     "slide_type": "slide"
    }
   },
   "source": [
    "## Thank you\n",
    "\n",
    "**Questions?**"
   ]
  }
 ],
 "metadata": {
  "celltoolbar": "Slideshow",
  "kernelspec": {
   "display_name": "Python 2",
   "language": "python",
   "name": "python2"
  },
  "language_info": {
   "codemirror_mode": {
    "name": "ipython",
    "version": 2
   },
   "file_extension": ".py",
   "mimetype": "text/x-python",
   "name": "python",
   "nbconvert_exporter": "python",
   "pygments_lexer": "ipython2",
   "version": "2.7.12"
  }
 },
 "nbformat": 4,
 "nbformat_minor": 0
}
