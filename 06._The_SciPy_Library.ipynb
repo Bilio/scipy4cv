{
 "cells": [
  {
   "cell_type": "markdown",
   "metadata": {
    "slideshow": {
     "slide_type": "slide"
    }
   },
   "source": [
    "# The SciPy Library"
   ]
  },
  {
   "cell_type": "markdown",
   "metadata": {
    "slideshow": {
     "slide_type": "slide"
    }
   },
   "source": [
    "- The SciPy Library includes modules for\n",
    "    - optimization,\n",
    "    - interpolation,\n",
    "    - signal processing,\n",
    "    - linear algebra,\n",
    "    - sparse matrix representation,\n",
    "    - KD-Trees, Delaunay triangulation, convex hull computation\n",
    "    - statistics, and others"
   ]
  },
  {
   "cell_type": "markdown",
   "metadata": {
    "slideshow": {
     "slide_type": "skip"
    }
   },
   "source": [
    "The SciPy library includes modules for optimization, interpolation, signal processing, linear algebra, statistics, sparse matrix representation and operation, among others. It also includes the `spatial` module, containing an implementations for the KD-Tree data structure (used on nearest-neighbor queries), Delaunay triangulation and convex hull computation."
   ]
  },
  {
   "cell_type": "markdown",
   "metadata": {
    "slideshow": {
     "slide_type": "slide"
    }
   },
   "source": [
    "## Optimization\n",
    "\n",
    "- The `optimize` module presents algorithms for\n",
    "    - function minimization\n",
    "        - Broyden-Fletcher-Goldfarb-Shanno (BFGS)\n",
    "        - simulated annealing\n",
    "        - least-squares\n",
    "        - Newton conjugate gradient\n",
    "    - root finding\n",
    "    - fitting"
   ]
  },
  {
   "cell_type": "code",
   "execution_count": 18,
   "metadata": {
    "collapsed": false,
    "slideshow": {
     "slide_type": "subslide"
    }
   },
   "outputs": [
    {
     "data": {
      "text/plain": [
       "[<matplotlib.lines.Line2D at 0x4c3a150>]"
      ]
     },
     "execution_count": 18,
     "metadata": {},
     "output_type": "execute_result"
    },
    {
     "data": {
      "image/png": "[encoded data removed]",
      "text/plain": [
       "<matplotlib.figure.Figure at 0x4a5ff10>"
      ]
     },
     "metadata": {},
     "output_type": "display_data"
    }
   ],
   "source": [
    "def f(x):\n",
    "    return x**2 + 10 * sin(x)\n",
    "\n",
    "x = arange(-10, 10, 0.1)\n",
    "plot(x, f(x), 'r-')"
   ]
  },
  {
   "cell_type": "markdown",
   "metadata": {
    "slideshow": {
     "slide_type": "subslide"
    }
   },
   "source": [
    "### BFGS"
   ]
  },
  {
   "cell_type": "code",
   "execution_count": 19,
   "metadata": {
    "collapsed": false,
    "slideshow": {
     "slide_type": "fragment"
    }
   },
   "outputs": [
    {
     "name": "stdout",
     "output_type": "stream",
     "text": [
      "Optimization terminated successfully.\n",
      "         Current function value: -7.945823\n",
      "         Iterations: 5\n",
      "         Function evaluations: 24\n",
      "         Gradient evaluations: 8\n"
     ]
    },
    {
     "data": {
      "text/plain": [
       "array([-1.30644003])"
      ]
     },
     "execution_count": 19,
     "metadata": {},
     "output_type": "execute_result"
    }
   ],
   "source": [
    "from scipy.optimize import fmin_bfgs\n",
    "\n",
    "xmin = fmin_bfgs(f, 0)\n",
    "xmin"
   ]
  },
  {
   "cell_type": "code",
   "execution_count": 20,
   "metadata": {
    "collapsed": false,
    "slideshow": {
     "slide_type": "subslide"
    }
   },
   "outputs": [
    {
     "data": {
      "text/plain": [
       "<matplotlib.text.Text at 0x4c18c10>"
      ]
     },
     "execution_count": 20,
     "metadata": {},
     "output_type": "execute_result"
    },
    {
     "data": {
      "image/png": "[encoded data removed]",
      "text/plain": [
       "<matplotlib.figure.Figure at 0x4b81e10>"
      ]
     },
     "metadata": {},
     "output_type": "display_data"
    }
   ],
   "source": [
    "plot(x, f(x), 'r-')\n",
    "scatter([xmin],[f(xmin)], 10, color='red')\n",
    "annotate('%f' % xmin, \n",
    "        xy=(xmin, f(xmin)), fontsize=12, xycoords='data',\n",
    "          xytext=(-90, -50), textcoords='offset points',\n",
    "          arrowprops=dict(arrowstyle=\"->\", connectionstyle=\"arc3,rad=.2\"))\n",
    "title('BFGS')"
   ]
  },
  {
   "cell_type": "markdown",
   "metadata": {
    "slideshow": {
     "slide_type": "subslide"
    }
   },
   "source": [
    "#### Problem\n",
    "\n",
    "Initialization and **local minimima**"
   ]
  },
  {
   "cell_type": "code",
   "execution_count": 21,
   "metadata": {
    "collapsed": false,
    "slideshow": {
     "slide_type": "fragment"
    }
   },
   "outputs": [
    {
     "data": {
      "text/plain": [
       "array([ 3.83746663])"
      ]
     },
     "execution_count": 21,
     "metadata": {},
     "output_type": "execute_result"
    }
   ],
   "source": [
    "xmin = fmin_bfgs(f, 3, disp=0)\n",
    "xmin"
   ]
  },
  {
   "cell_type": "code",
   "execution_count": 22,
   "metadata": {
    "collapsed": false,
    "slideshow": {
     "slide_type": "subslide"
    }
   },
   "outputs": [
    {
     "data": {
      "text/plain": [
       "<matplotlib.text.Text at 0x4bb4510>"
      ]
     },
     "execution_count": 22,
     "metadata": {},
     "output_type": "execute_result"
    },
    {
     "data": {
      "image/png": "[encoded data removed]",
      "text/plain": [
       "<matplotlib.figure.Figure at 0x4c254d0>"
      ]
     },
     "metadata": {},
     "output_type": "display_data"
    }
   ],
   "source": [
    "plot(x, f(x), 'r-')\n",
    "scatter([xmin],[f(xmin)], 10, color='red')\n",
    "annotate('%f' % xmin, \n",
    "        xy=(xmin, f(xmin)), fontsize=12, xycoords='data',\n",
    "          xytext=(40, -75), textcoords='offset points',\n",
    "          arrowprops=dict(arrowstyle=\"->\", connectionstyle=\"arc3,rad=.2\"))\n",
    "title('BFGS - local minima')"
   ]
  },
  {
   "cell_type": "markdown",
   "metadata": {
    "slideshow": {
     "slide_type": "subslide"
    }
   },
   "source": [
    "#### Brute force\n",
    "\n",
    "- Compute $f(x)$ for all $x$ in a *grid*"
   ]
  },
  {
   "cell_type": "code",
   "execution_count": 23,
   "metadata": {
    "collapsed": false,
    "slideshow": {
     "slide_type": "fragment"
    }
   },
   "outputs": [
    {
     "data": {
      "text/plain": [
       "array([-1.30641113])"
      ]
     },
     "execution_count": 23,
     "metadata": {},
     "output_type": "execute_result"
    }
   ],
   "source": [
    "from scipy.optimize import brute\n",
    "grid = (-10, 10, 0.1)\n",
    "xmin = brute(f, (grid,))\n",
    "xmin"
   ]
  },
  {
   "cell_type": "code",
   "execution_count": 24,
   "metadata": {
    "collapsed": false,
    "slideshow": {
     "slide_type": "subslide"
    }
   },
   "outputs": [
    {
     "data": {
      "text/plain": [
       "<matplotlib.text.Text at 0x5162c50>"
      ]
     },
     "execution_count": 24,
     "metadata": {},
     "output_type": "execute_result"
    },
    {
     "data": {
      "image/png": "[encoded data removed]",
      "text/plain": [
       "<matplotlib.figure.Figure at 0x4c21450>"
      ]
     },
     "metadata": {},
     "output_type": "display_data"
    }
   ],
   "source": [
    "plot(x, f(x), 'r-')\n",
    "scatter([xmin],[f(xmin)], 10, color='red')\n",
    "annotate('%f' % xmin, \n",
    "        xy=(xmin, f(xmin)), fontsize=12, xycoords='data',\n",
    "          xytext=(-90, -50), textcoords='offset points',\n",
    "          arrowprops=dict(arrowstyle=\"->\", connectionstyle=\"arc3,rad=.2\"))\n",
    "title('Brute force')"
   ]
  },
  {
   "cell_type": "markdown",
   "metadata": {
    "slideshow": {
     "slide_type": "subslide"
    }
   },
   "source": [
    "#### Simulated Annealing"
   ]
  },
  {
   "cell_type": "code",
   "execution_count": 35,
   "metadata": {
    "collapsed": false,
    "slideshow": {
     "slide_type": "fragment"
    }
   },
   "outputs": [
    {
     "name": "stdout",
     "output_type": "stream",
     "text": [
      "Warning: Cooled to 8.328202 at 3.78222236155 but this is not the smallest point found.\n"
     ]
    },
    {
     "data": {
      "text/plain": [
       "(-1.2167727301519746, 5)"
      ]
     },
     "execution_count": 35,
     "metadata": {},
     "output_type": "execute_result"
    }
   ],
   "source": [
    "from scipy.optimize import anneal\n",
    "\n",
    "xmin, status = anneal(f, 3)\n",
    "xmin, status"
   ]
  },
  {
   "cell_type": "code",
   "execution_count": 31,
   "metadata": {
    "collapsed": false,
    "slideshow": {
     "slide_type": "subslide"
    }
   },
   "outputs": [
    {
     "data": {
      "text/plain": [
       "<matplotlib.text.Text at 0x5193890>"
      ]
     },
     "execution_count": 31,
     "metadata": {},
     "output_type": "execute_result"
    },
    {
     "data": {
      "image/png": "[encoded data removed]",
      "text/plain": [
       "<matplotlib.figure.Figure at 0x361c850>"
      ]
     },
     "metadata": {},
     "output_type": "display_data"
    }
   ],
   "source": [
    "plot(x, f(x), 'r-')\n",
    "scatter([xmin],[f(xmin)], 10, color='red')\n",
    "annotate('%f' % xmin, \n",
    "        xy=(xmin, f(xmin)), fontsize=12, xycoords='data',\n",
    "          xytext=(-90, -50), textcoords='offset points',\n",
    "          arrowprops=dict(arrowstyle=\"->\", connectionstyle=\"arc3,rad=.2\"))\n",
    "title('Simulate Annealing')"
   ]
  },
  {
   "cell_type": "markdown",
   "metadata": {
    "slideshow": {
     "slide_type": "slide"
    }
   },
   "source": [
    "## Linear algebra using `scipy.linalg`"
   ]
  },
  {
   "cell_type": "markdown",
   "metadata": {
    "slideshow": {
     "slide_type": "slide"
    }
   },
   "source": [
    "- Linear algebra is particularly important to **projective geometry**\n",
    "- Consider a 3D point $\\mathbf{X}_i$\n",
    "- Let $\\mathrm{\\tt P}$ be a **camera matrix**\n",
    "- The projection of $\\mathbf{X}_i$ on the camera plane is $\\mathbf{x}_i = \\mathrm{\\tt P} \\mathbf{X}_i$"
   ]
  },
  {
   "cell_type": "markdown",
   "metadata": {
    "slideshow": {
     "slide_type": "skip"
    }
   },
   "source": [
    "Linear algebra is an essential mathematical tool for computer vision and machine learning. It is particularly important in problems involving projective geometry as in [multiple \n",
    "view computer vision](http://www.robots.ox.ac.uk/~vgg/hzbook/). Consider a 3D point $\\mathbf{X}_i$, represented as a *homogeneous* 4-d array, and a projective matrix $\\mathrm{\\tt P}$, represented as a $3 \\times 4$ array and corresponding to a camera. The\n",
    "projection of $\\mathbf{X}_i$ on the camera’s image plane, $\\mathbf{x}_i$, can be elegantly coded as:"
   ]
  },
  {
   "cell_type": "code",
   "execution_count": 3,
   "metadata": {
    "collapsed": false,
    "slideshow": {
     "slide_type": "fragment"
    }
   },
   "outputs": [
    {
     "data": {
      "text/plain": [
       "array([ 900.15223192,  644.29279864,    3.81333274])"
      ]
     },
     "execution_count": 3,
     "metadata": {},
     "output_type": "execute_result"
    }
   ],
   "source": [
    "P = array([[  1.41598501e+03,  -3.53656018e+01,   6.29880366e+02,  -9.80199681e+02],\n",
    "           [ -1.66130187e+01,   1.52666051e+03,   2.41551888e+02,   2.34435820e+02],\n",
    "           [ -2.20274424e-01,   4.97475710e-03,   9.75425256e-01,   6.34871255e-01]])\n",
    "\n",
    "X = array([-0.11652141, -0.24440939,  3.23347243,  1.])\n",
    "\n",
    "x = dot(P, X)\n",
    "x"
   ]
  },
  {
   "cell_type": "markdown",
   "metadata": {
    "slideshow": {
     "slide_type": "skip"
    }
   },
   "source": [
    "The `dot` function, for 2-D arrays, computes the matrix multiplication, and for 1-D arrays it calculates the inner product of vectors. "
   ]
  },
  {
   "cell_type": "markdown",
   "metadata": {
    "slideshow": {
     "slide_type": "slide"
    }
   },
   "source": [
    "The pixel inhomogeneous coordinates can be recovered using:"
   ]
  },
  {
   "cell_type": "code",
   "execution_count": 5,
   "metadata": {
    "collapsed": false,
    "slideshow": {
     "slide_type": "fragment"
    }
   },
   "outputs": [
    {
     "data": {
      "text/plain": [
       "(236.05394389057571, 168.95792816629523)"
      ]
     },
     "execution_count": 5,
     "metadata": {},
     "output_type": "execute_result"
    }
   ],
   "source": [
    "x_coord = x[0]/x[2]\n",
    "y_coord = x[1]/x[2]\n",
    "x_coord, y_coord"
   ]
  },
  {
   "cell_type": "markdown",
   "metadata": {
    "slideshow": {
     "slide_type": "slide"
    }
   },
   "source": [
    "### Singular value decompostion"
   ]
  },
  {
   "cell_type": "markdown",
   "metadata": {
    "slideshow": {
     "slide_type": "slide"
    }
   },
   "source": [
    "- Several problems in multiple view geometry involve **over-determined systems of equations**\n",
    "     - Homography estimation\n",
    "     - 3D points triangulation\n",
    "- $A\\mathbf{x}$ is a homogeneous systems of linear equations\n",
    "- Can be solved using **Singular Value Decomposition (SVD)**"
   ]
  },
  {
   "cell_type": "markdown",
   "metadata": {
    "slideshow": {
     "slide_type": "skip"
    }
   },
   "source": [
    "Estimation problems in projective geometry involve the solution of over-determined systems of equations. More precisely, these problems are formalized as *linear least-squares*\n",
    "resolutions of homogeneous systems of linear equations in the form $A\\mathbf{x}$, minimizing $A\\mathbf{x}$ subject to $\\| \\mathbf{x} \\| = 1$."
   ]
  },
  {
   "cell_type": "markdown",
   "metadata": {
    "slideshow": {
     "slide_type": "skip"
    }
   },
   "source": [
    "The minimization problem can be solved using **singular value decomposition (SVD)**, a matrix decomposition particularly useful in numerical computations. SVD decomposes $A$\n",
    "as $A = UDV^\\intercal$ and the $\\mathbf{x}$ solution corresponds to the last columns of $V$."
   ]
  },
  {
   "cell_type": "code",
   "execution_count": 8,
   "metadata": {
    "collapsed": false,
    "slideshow": {
     "slide_type": "subslide"
    }
   },
   "outputs": [],
   "source": [
    "def dlt_triangulation(ui, Pi, uj, Pj):\n",
    "    \"\"\"Hartley & Zisserman, 12.2\"\"\"\n",
    "    ui /= ui[2]\n",
    "    xi, yi = ui[0], ui[1]\n",
    "    \n",
    "    uj /= uj[2]\n",
    "    xj, yj = uj[0], uj[1]\n",
    "    \n",
    "    a0 = xi * Pi[2,:] - Pi[0,:]\n",
    "    a1 = yi * Pi[2,:] - Pi[1,:]\n",
    "    a2 = xj * Pj[2,:] - Pj[0,:]\n",
    "    a3 = yj * Pj[2,:] - Pj[1,:]\n",
    "    \n",
    "    A = vstack((a0, a1, a2, a3))   \n",
    "    U, s, VT = linalg.svd(A)\n",
    "    V = VT.T    \n",
    "    \n",
    "    X3d = V[:,-1]    \n",
    "       \n",
    "    return X3d/X3d[3]"
   ]
  },
  {
   "cell_type": "markdown",
   "metadata": {
    "slideshow": {
     "slide_type": "slide"
    }
   },
   "source": [
    "Examples of `spatial.KDTree` and `linalg.svd` will be presented in the Structure from Motion example."
   ]
  }
 ],
 "metadata": {
  "celltoolbar": "Slideshow",
  "kernelspec": {
   "display_name": "Python 2",
   "language": "python",
   "name": "python2"
  },
  "language_info": {
   "codemirror_mode": {
    "name": "ipython",
    "version": 2
   },
   "file_extension": ".py",
   "mimetype": "text/x-python",
   "name": "python",
   "nbconvert_exporter": "python",
   "pygments_lexer": "ipython2",
   "version": "2.7.12"
  }
 },
 "nbformat": 4,
 "nbformat_minor": 0
}
